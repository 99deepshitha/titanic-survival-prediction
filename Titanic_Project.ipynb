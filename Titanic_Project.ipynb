{
 "cells": [
  {
   "cell_type": "markdown",
   "id": "0fa1ffb8",
   "metadata": {},
   "source": [
    "# Titanic Dataset Analysis\n",
    "\n",
    "This notebook analyzes the Titanic dataset (`train.csv`) to explore survival rates.\n",
    "We clean the data, analyze survival by gender, class, and age group, and visualize results.\n"
   ]
  },
  {
   "cell_type": "markdown",
   "id": "e3e3e2d5",
   "metadata": {},
   "source": [
    "Import necessary libraries"
   ]
  },
  {
   "cell_type": "code",
   "execution_count": 1,
   "id": "c7be1587",
   "metadata": {},
   "outputs": [
    {
     "data": {
      "text/plain": [
       "['Pandas_1_Loading_data.py',\n",
       " 'Pandas_2_Reading_data.py',\n",
       " 'Pandas_3_Sorting_describing_data.py',\n",
       " 'Pandas_4_Making_changes_data.py',\n",
       " 'Pandas_5_Filtering_data.py',\n",
       " 'Pandas_6_Conditional_changes.py',\n",
       " 'Pandas_7_Aggregate_statistics(Groupby).py',\n",
       " 'Pandas_8_Working_with_large_data.py',\n",
       " 'READ ME',\n",
       " 'titanic.py',\n",
       " 'Titanic_Project.ipynb',\n",
       " 'train.csv']"
      ]
     },
     "execution_count": 1,
     "metadata": {},
     "output_type": "execute_result"
    }
   ],
   "source": [
    "import pandas as pd\n",
    "import seaborn as sns\n",
    "import matplotlib.pyplot as plt\n",
    "import os\n",
    "os.listdir()\n"
   ]
  },
  {
   "cell_type": "markdown",
   "id": "e7ed716d",
   "metadata": {},
   "source": [
    "Load Dataset"
   ]
  },
  {
   "cell_type": "code",
   "execution_count": 2,
   "id": "153ff577",
   "metadata": {},
   "outputs": [
    {
     "data": {
      "text/html": [
       "<div>\n",
       "<style scoped>\n",
       "    .dataframe tbody tr th:only-of-type {\n",
       "        vertical-align: middle;\n",
       "    }\n",
       "\n",
       "    .dataframe tbody tr th {\n",
       "        vertical-align: top;\n",
       "    }\n",
       "\n",
       "    .dataframe thead th {\n",
       "        text-align: right;\n",
       "    }\n",
       "</style>\n",
       "<table border=\"1\" class=\"dataframe\">\n",
       "  <thead>\n",
       "    <tr style=\"text-align: right;\">\n",
       "      <th></th>\n",
       "      <th>survived</th>\n",
       "      <th>pclass</th>\n",
       "      <th>sex</th>\n",
       "      <th>age</th>\n",
       "      <th>sibsp</th>\n",
       "      <th>parch</th>\n",
       "      <th>fare</th>\n",
       "      <th>embarked</th>\n",
       "      <th>class</th>\n",
       "      <th>who</th>\n",
       "      <th>adult_male</th>\n",
       "      <th>deck</th>\n",
       "      <th>embark_town</th>\n",
       "      <th>alive</th>\n",
       "      <th>alone</th>\n",
       "    </tr>\n",
       "  </thead>\n",
       "  <tbody>\n",
       "    <tr>\n",
       "      <th>0</th>\n",
       "      <td>0</td>\n",
       "      <td>3</td>\n",
       "      <td>male</td>\n",
       "      <td>22.0</td>\n",
       "      <td>1</td>\n",
       "      <td>0</td>\n",
       "      <td>7.2500</td>\n",
       "      <td>S</td>\n",
       "      <td>Third</td>\n",
       "      <td>man</td>\n",
       "      <td>True</td>\n",
       "      <td>NaN</td>\n",
       "      <td>Southampton</td>\n",
       "      <td>no</td>\n",
       "      <td>False</td>\n",
       "    </tr>\n",
       "    <tr>\n",
       "      <th>1</th>\n",
       "      <td>1</td>\n",
       "      <td>1</td>\n",
       "      <td>female</td>\n",
       "      <td>38.0</td>\n",
       "      <td>1</td>\n",
       "      <td>0</td>\n",
       "      <td>71.2833</td>\n",
       "      <td>C</td>\n",
       "      <td>First</td>\n",
       "      <td>woman</td>\n",
       "      <td>False</td>\n",
       "      <td>C</td>\n",
       "      <td>Cherbourg</td>\n",
       "      <td>yes</td>\n",
       "      <td>False</td>\n",
       "    </tr>\n",
       "    <tr>\n",
       "      <th>2</th>\n",
       "      <td>1</td>\n",
       "      <td>3</td>\n",
       "      <td>female</td>\n",
       "      <td>26.0</td>\n",
       "      <td>0</td>\n",
       "      <td>0</td>\n",
       "      <td>7.9250</td>\n",
       "      <td>S</td>\n",
       "      <td>Third</td>\n",
       "      <td>woman</td>\n",
       "      <td>False</td>\n",
       "      <td>NaN</td>\n",
       "      <td>Southampton</td>\n",
       "      <td>yes</td>\n",
       "      <td>True</td>\n",
       "    </tr>\n",
       "    <tr>\n",
       "      <th>3</th>\n",
       "      <td>1</td>\n",
       "      <td>1</td>\n",
       "      <td>female</td>\n",
       "      <td>35.0</td>\n",
       "      <td>1</td>\n",
       "      <td>0</td>\n",
       "      <td>53.1000</td>\n",
       "      <td>S</td>\n",
       "      <td>First</td>\n",
       "      <td>woman</td>\n",
       "      <td>False</td>\n",
       "      <td>C</td>\n",
       "      <td>Southampton</td>\n",
       "      <td>yes</td>\n",
       "      <td>False</td>\n",
       "    </tr>\n",
       "    <tr>\n",
       "      <th>4</th>\n",
       "      <td>0</td>\n",
       "      <td>3</td>\n",
       "      <td>male</td>\n",
       "      <td>35.0</td>\n",
       "      <td>0</td>\n",
       "      <td>0</td>\n",
       "      <td>8.0500</td>\n",
       "      <td>S</td>\n",
       "      <td>Third</td>\n",
       "      <td>man</td>\n",
       "      <td>True</td>\n",
       "      <td>NaN</td>\n",
       "      <td>Southampton</td>\n",
       "      <td>no</td>\n",
       "      <td>True</td>\n",
       "    </tr>\n",
       "  </tbody>\n",
       "</table>\n",
       "</div>"
      ],
      "text/plain": [
       "   survived  pclass     sex   age  sibsp  parch     fare embarked  class  \\\n",
       "0         0       3    male  22.0      1      0   7.2500        S  Third   \n",
       "1         1       1  female  38.0      1      0  71.2833        C  First   \n",
       "2         1       3  female  26.0      0      0   7.9250        S  Third   \n",
       "3         1       1  female  35.0      1      0  53.1000        S  First   \n",
       "4         0       3    male  35.0      0      0   8.0500        S  Third   \n",
       "\n",
       "     who adult_male deck  embark_town alive  alone  \n",
       "0    man       True  NaN  Southampton    no  False  \n",
       "1  woman      False    C    Cherbourg   yes  False  \n",
       "2  woman      False  NaN  Southampton   yes   True  \n",
       "3  woman      False    C  Southampton   yes  False  \n",
       "4    man       True  NaN  Southampton    no   True  "
      ]
     },
     "execution_count": 2,
     "metadata": {},
     "output_type": "execute_result"
    }
   ],
   "source": [
    "# Make sure 'train.csv' is in the same folder as this notebook\n",
    "titanic= pd.read_csv('train.csv')\n",
    "\n",
    "# Show first 5 rows\n",
    "titanic.head()"
   ]
  },
  {
   "cell_type": "markdown",
   "id": "ae2b694d",
   "metadata": {},
   "source": [
    "Step 1: Inspect Data\n",
    "\n",
    "We check data types, missing values, and summary statistics."
   ]
  },
  {
   "cell_type": "code",
   "execution_count": 3,
   "id": "14330ab4",
   "metadata": {},
   "outputs": [
    {
     "name": "stdout",
     "output_type": "stream",
     "text": [
      "<class 'pandas.core.frame.DataFrame'>\n",
      "RangeIndex: 312 entries, 0 to 311\n",
      "Data columns (total 15 columns):\n",
      " #   Column       Non-Null Count  Dtype  \n",
      "---  ------       --------------  -----  \n",
      " 0   survived     312 non-null    int64  \n",
      " 1   pclass       312 non-null    int64  \n",
      " 2   sex          312 non-null    object \n",
      " 3   age          249 non-null    float64\n",
      " 4   sibsp        312 non-null    int64  \n",
      " 5   parch        312 non-null    int64  \n",
      " 6   fare         312 non-null    float64\n",
      " 7   embarked     310 non-null    object \n",
      " 8   class        311 non-null    object \n",
      " 9   who          311 non-null    object \n",
      " 10  adult_male   311 non-null    object \n",
      " 11  deck         68 non-null     object \n",
      " 12  embark_town  310 non-null    object \n",
      " 13  alive        311 non-null    object \n",
      " 14  alone        311 non-null    object \n",
      "dtypes: float64(2), int64(4), object(9)\n",
      "memory usage: 36.7+ KB\n",
      "None\n",
      "         survived      pclass         age       sibsp       parch        fare\n",
      "count  312.000000  312.000000  249.000000  312.000000  312.000000  312.000000\n",
      "mean     0.375000    2.352564   28.699799    0.612179    0.384615   31.290183\n",
      "std      0.484901    0.824110   14.755582    1.245021    0.793556   48.857218\n",
      "min      0.000000    1.000000    0.830000    0.000000    0.000000    0.000000\n",
      "25%      0.000000    2.000000   19.000000    0.000000    0.000000    7.925000\n",
      "50%      0.000000    3.000000   28.000000    0.000000    0.000000   14.456250\n",
      "75%      1.000000    3.000000   37.000000    1.000000    0.000000   30.771850\n",
      "max      1.000000    3.000000   71.000000    8.000000    5.000000  512.329200\n",
      "survived         0\n",
      "pclass           0\n",
      "sex              0\n",
      "age             63\n",
      "sibsp            0\n",
      "parch            0\n",
      "fare             0\n",
      "embarked         2\n",
      "class            1\n",
      "who              1\n",
      "adult_male       1\n",
      "deck           244\n",
      "embark_town      2\n",
      "alive            1\n",
      "alone            1\n",
      "dtype: int64\n"
     ]
    }
   ],
   "source": [
    "# Basic info\n",
    "print(titanic.info())\n",
    "\n",
    "# Summary statistics\n",
    "print(titanic.describe())\n",
    "\n",
    "# Check missing values\n",
    "print(titanic.isnull().sum())"
   ]
  },
  {
   "cell_type": "markdown",
   "id": "3112b251",
   "metadata": {},
   "source": [
    "Step 2: Clean Data\n",
    " \n",
    "- Fill missing age values with median age.  \n",
    "- Fill missing embarked values with mode.\n",
    "- Fill missing 'deck' values with 'Unknown'"
   ]
  },
  {
   "cell_type": "code",
   "execution_count": 4,
   "id": "66111365",
   "metadata": {},
   "outputs": [],
   "source": [
    "\n",
    "# Fill missing age with median\n",
    "if 'age' in titanic.columns:\n",
    "    titanic['age']=titanic['age'].fillna(titanic['age'].median())\n",
    "\n",
    "# Fill missing embarked with mode\n",
    "if \"embarked\" in titanic.columns:\n",
    "    titanic[\"embarked\"]=titanic[\"embarked\"].fillna(titanic[\"embarked\"].mode()[0])\n",
    "\n",
    "# Fill missing 'deck' values with 'Unknown'\n",
    "if \"deck\" in titanic.columns:\n",
    "    titanic[\"deck\"] = titanic[\"deck\"].fillna(\"Unknown\")"
   ]
  },
  {
   "cell_type": "markdown",
   "id": "5109f9b4",
   "metadata": {},
   "source": [
    "Step 3: Survival Analysis\n",
    "\n",
    "- Calculate overall survival rate.  \n",
    "- Compare survival by gender and passenger class."
   ]
  },
  {
   "cell_type": "code",
   "execution_count": 5,
   "id": "e819f9aa",
   "metadata": {},
   "outputs": [
    {
     "name": "stdout",
     "output_type": "stream",
     "text": [
      "Overall survival rate: 0.375\n",
      "Survival by gender:\n",
      " sex\n",
      "female    0.728070\n",
      "male      0.171717\n",
      "Name: survived, dtype: float64\n",
      "Survival by class:\n",
      " pclass\n",
      "1    0.542857\n",
      "2    0.419355\n",
      "3    0.294444\n",
      "Name: survived, dtype: float64\n"
     ]
    }
   ],
   "source": [
    "# Overall survival\n",
    "print(\"Overall survival rate:\", titanic[\"survived\"].mean())\n",
    "\n",
    "# Survival by gender\n",
    "if \"sex\" in titanic.columns:\n",
    "    print(\"Survival by gender:\\n\", titanic.groupby(\"sex\")[\"survived\"].mean())\n",
    "\n",
    "# Survival by class\n",
    "if \"pclass\" in titanic.columns:\n",
    "    print(\"Survival by class:\\n\", titanic.groupby(\"pclass\")[\"survived\"].mean())"
   ]
  },
  {
   "cell_type": "markdown",
   "id": "e1760471",
   "metadata": {},
   "source": [
    "Step 4:Age Group Analysis\n",
    "\n",
    "- Categorize passengers into age groups: Child, Teen, Adult, Senior.  \n",
    "- Calculate survival rate by age group."
   ]
  },
  {
   "cell_type": "code",
   "execution_count": 6,
   "id": "a4dc5c9e",
   "metadata": {},
   "outputs": [
    {
     "name": "stdout",
     "output_type": "stream",
     "text": [
      "Survival by age group:\n",
      " AgeGroup\n",
      "Child     0.500000\n",
      "Teen      0.440000\n",
      "Adult     0.368644\n",
      "Senior    0.217391\n",
      "Name: survived, dtype: float64\n"
     ]
    },
    {
     "name": "stderr",
     "output_type": "stream",
     "text": [
      "C:\\Users\\deepshitha.kasireddy\\AppData\\Local\\Temp\\ipykernel_14236\\1316452227.py:8: FutureWarning: The default of observed=False is deprecated and will be changed to True in a future version of pandas. Pass observed=False to retain current behavior or observed=True to adopt the future default and silence this warning.\n",
      "  print(\"Survival by age group:\\n\",titanic.groupby(\"AgeGroup\")[\"survived\"].mean())\n"
     ]
    }
   ],
   "source": [
    "# Create age groups\n",
    "if\"age\" in titanic.columns:\n",
    "    titanic[\"AgeGroup\"]=pd.cut(\n",
    "        titanic[\"age\"],\n",
    "        bins=[0,12,18,50,80],\n",
    "        labels=[\"Child\",\"Teen\",\"Adult\",\"Senior\"]\n",
    "    )\n",
    "    print(\"Survival by age group:\\n\",titanic.groupby(\"AgeGroup\")[\"survived\"].mean())"
   ]
  },
  {
   "cell_type": "markdown",
   "id": "d188e0be",
   "metadata": {},
   "source": [
    "Step 5:Visualizations\n",
    "\n",
    "Visualize survival by gender, class, and age group using barplots."
   ]
  },
  {
   "cell_type": "code",
   "execution_count": 7,
   "id": "3a951a67",
   "metadata": {},
   "outputs": [
    {
     "data": {
      "image/png": "[encoded data removed]",
      "text/plain": [
       "<Figure size 640x480 with 1 Axes>"
      ]
     },
     "metadata": {},
     "output_type": "display_data"
    },
    {
     "data": {
      "image/png": "[encoded data removed]",
      "text/plain": [
       "<Figure size 640x480 with 1 Axes>"
      ]
     },
     "metadata": {},
     "output_type": "display_data"
    },
    {
     "data": {
      "image/png": "[encoded data removed]",
      "text/plain": [
       "<Figure size 640x480 with 1 Axes>"
      ]
     },
     "metadata": {},
     "output_type": "display_data"
    }
   ],
   "source": [
    "# Plot survival by gender\n",
    "if \"sex\" in titanic.columns:\n",
    "    sns.barplot(x=\"sex\",y=\"survived\",data=titanic)\n",
    "    plt.title(\"Survival Rate by Gender\")\n",
    "    plt.show()\n",
    "\n",
    "# Plot survival by passenger class\n",
    "if \"pclass\" in titanic.columns:\n",
    "    sns.barplot(x=\"pclass\",y=\"survived\",data=titanic)\n",
    "    plt.title(\"Survival Rate by Passanger Class\")\n",
    "    plt.show()\n",
    "\n",
    "# Plot survival by age group\n",
    "if \"AgeGroup\" in titanic.columns:\n",
    "    sns.barplot(x=\"AgeGroup\", y=\"survived\", data=titanic)\n",
    "    plt.title(\"Survival Rate by Age Group\")\n",
    "    plt.show()"
   ]
  }
 ],
 "metadata": {
  "kernelspec": {
   "display_name": "Python 3",
   "language": "python",
   "name": "python3"
  },
  "language_info": {
   "codemirror_mode": {
    "name": "ipython",
    "version": 3
   },
   "file_extension": ".py",
   "mimetype": "text/x-python",
   "name": "python",
   "nbconvert_exporter": "python",
   "pygments_lexer": "ipython3",
   "version": "3.13.3"
  }
 },
 "nbformat": 4,
 "nbformat_minor": 5
}
